{
 "cells": [
  {
   "cell_type": "markdown",
   "id": "e6ad1ad8",
   "metadata": {},
   "source": [
    "# Exploratory Data Analysis"
   ]
  },
  {
   "cell_type": "markdown",
   "id": "708a8fc4",
   "metadata": {},
   "source": [
    "## Introduction\n",
    "The dataset used in this analysis is the New York City Airbnb Open Data (2019), which provides detailed information about Airbnb listings across the five boroughs of New York City — Manhattan, Brooklyn, Queens, Bronx, and Staten Island. It includes data collected from the Airbnb platform in 2019 and offers insights into various aspects of short-term rental activity in the city.\n",
    "\n",
    "Each record in the dataset represents a unique Airbnb listing and contains information such as the host’s details, neighborhood, room type, price, number of minimum nights required, availability throughout the year, and the number of reviews."
   ]
  },
  {
   "cell_type": "markdown",
   "id": "2a94a47d",
   "metadata": {},
   "source": [
    "Analyzing this dataset is valuable because it uncovers trends and patterns in the short-term rental market of one of the world’s most dynamic cities. Through this exploratory data analysis (EDA), we aim to understand how factors like location, pricing, and availability vary across neighborhoods, identify popular areas and property types, and examine how host activity influences the market."
   ]
  },
  {
   "cell_type": "markdown",
   "id": "33a368ac",
   "metadata": {},
   "source": [
    "The insights derived from this analysis can be useful for multiple stakeholders:\n",
    "- Hosts, who can optimize their pricing and improve listing performance based on market trends.\n",
    "- Travelers, who can make more informed choices regarding affordability and neighborhood preferences.\n",
    "- Airbnb’s policy and operations teams, who can use the findings to ensure fair usage, monitor saturation levels, and support sustainable tourism practices.\n",
    "\n",
    "\n",
    "Overall, this analysis aims to provide a data-driven understanding of Airbnb activity across New York City, highlighting both economic and spatial dynamics within the urban short-term rental ecosystem."
   ]
  },
  {
   "cell_type": "markdown",
   "id": "4e59c9f0",
   "metadata": {},
   "source": [
    "## Data Loading & Overview"
   ]
  },
  {
   "cell_type": "code",
   "execution_count": 1,
   "id": "f6c43bbd",
   "metadata": {},
   "outputs": [],
   "source": [
    "# Importing necessary libraries.\n",
    "import pandas as pd"
   ]
  },
  {
   "cell_type": "code",
   "execution_count": 2,
   "id": "2fa0b4a6",
   "metadata": {},
   "outputs": [
    {
     "data": {
      "text/html": [
       "<div>\n",
       "<style scoped>\n",
       "    .dataframe tbody tr th:only-of-type {\n",
       "        vertical-align: middle;\n",
       "    }\n",
       "\n",
       "    .dataframe tbody tr th {\n",
       "        vertical-align: top;\n",
       "    }\n",
       "\n",
       "    .dataframe thead th {\n",
       "        text-align: right;\n",
       "    }\n",
       "</style>\n",
       "<table border=\"1\" class=\"dataframe\">\n",
       "  <thead>\n",
       "    <tr style=\"text-align: right;\">\n",
       "      <th></th>\n",
       "      <th>id</th>\n",
       "      <th>name</th>\n",
       "      <th>host_id</th>\n",
       "      <th>host_name</th>\n",
       "      <th>neighbourhood_group</th>\n",
       "      <th>neighbourhood</th>\n",
       "      <th>latitude</th>\n",
       "      <th>longitude</th>\n",
       "      <th>room_type</th>\n",
       "      <th>price</th>\n",
       "      <th>minimum_nights</th>\n",
       "      <th>number_of_reviews</th>\n",
       "      <th>last_review</th>\n",
       "      <th>reviews_per_month</th>\n",
       "      <th>calculated_host_listings_count</th>\n",
       "      <th>availability_365</th>\n",
       "    </tr>\n",
       "  </thead>\n",
       "  <tbody>\n",
       "    <tr>\n",
       "      <th>0</th>\n",
       "      <td>2539</td>\n",
       "      <td>Clean &amp; quiet apt home by the park</td>\n",
       "      <td>2787</td>\n",
       "      <td>John</td>\n",
       "      <td>Brooklyn</td>\n",
       "      <td>Kensington</td>\n",
       "      <td>40.64749</td>\n",
       "      <td>-73.97237</td>\n",
       "      <td>Private room</td>\n",
       "      <td>149</td>\n",
       "      <td>1</td>\n",
       "      <td>9</td>\n",
       "      <td>2018-10-19</td>\n",
       "      <td>0.21</td>\n",
       "      <td>6</td>\n",
       "      <td>365</td>\n",
       "    </tr>\n",
       "    <tr>\n",
       "      <th>1</th>\n",
       "      <td>2595</td>\n",
       "      <td>Skylit Midtown Castle</td>\n",
       "      <td>2845</td>\n",
       "      <td>Jennifer</td>\n",
       "      <td>Manhattan</td>\n",
       "      <td>Midtown</td>\n",
       "      <td>40.75362</td>\n",
       "      <td>-73.98377</td>\n",
       "      <td>Entire home/apt</td>\n",
       "      <td>225</td>\n",
       "      <td>1</td>\n",
       "      <td>45</td>\n",
       "      <td>2019-05-21</td>\n",
       "      <td>0.38</td>\n",
       "      <td>2</td>\n",
       "      <td>355</td>\n",
       "    </tr>\n",
       "    <tr>\n",
       "      <th>2</th>\n",
       "      <td>3647</td>\n",
       "      <td>THE VILLAGE OF HARLEM....NEW YORK !</td>\n",
       "      <td>4632</td>\n",
       "      <td>Elisabeth</td>\n",
       "      <td>Manhattan</td>\n",
       "      <td>Harlem</td>\n",
       "      <td>40.80902</td>\n",
       "      <td>-73.94190</td>\n",
       "      <td>Private room</td>\n",
       "      <td>150</td>\n",
       "      <td>3</td>\n",
       "      <td>0</td>\n",
       "      <td>NaN</td>\n",
       "      <td>NaN</td>\n",
       "      <td>1</td>\n",
       "      <td>365</td>\n",
       "    </tr>\n",
       "    <tr>\n",
       "      <th>3</th>\n",
       "      <td>3831</td>\n",
       "      <td>Cozy Entire Floor of Brownstone</td>\n",
       "      <td>4869</td>\n",
       "      <td>LisaRoxanne</td>\n",
       "      <td>Brooklyn</td>\n",
       "      <td>Clinton Hill</td>\n",
       "      <td>40.68514</td>\n",
       "      <td>-73.95976</td>\n",
       "      <td>Entire home/apt</td>\n",
       "      <td>89</td>\n",
       "      <td>1</td>\n",
       "      <td>270</td>\n",
       "      <td>2019-07-05</td>\n",
       "      <td>4.64</td>\n",
       "      <td>1</td>\n",
       "      <td>194</td>\n",
       "    </tr>\n",
       "    <tr>\n",
       "      <th>4</th>\n",
       "      <td>5022</td>\n",
       "      <td>Entire Apt: Spacious Studio/Loft by central park</td>\n",
       "      <td>7192</td>\n",
       "      <td>Laura</td>\n",
       "      <td>Manhattan</td>\n",
       "      <td>East Harlem</td>\n",
       "      <td>40.79851</td>\n",
       "      <td>-73.94399</td>\n",
       "      <td>Entire home/apt</td>\n",
       "      <td>80</td>\n",
       "      <td>10</td>\n",
       "      <td>9</td>\n",
       "      <td>2018-11-19</td>\n",
       "      <td>0.10</td>\n",
       "      <td>1</td>\n",
       "      <td>0</td>\n",
       "    </tr>\n",
       "  </tbody>\n",
       "</table>\n",
       "</div>"
      ],
      "text/plain": [
       "     id                                              name  host_id  \\\n",
       "0  2539                Clean & quiet apt home by the park     2787   \n",
       "1  2595                             Skylit Midtown Castle     2845   \n",
       "2  3647               THE VILLAGE OF HARLEM....NEW YORK !     4632   \n",
       "3  3831                   Cozy Entire Floor of Brownstone     4869   \n",
       "4  5022  Entire Apt: Spacious Studio/Loft by central park     7192   \n",
       "\n",
       "     host_name neighbourhood_group neighbourhood  latitude  longitude  \\\n",
       "0         John            Brooklyn    Kensington  40.64749  -73.97237   \n",
       "1     Jennifer           Manhattan       Midtown  40.75362  -73.98377   \n",
       "2    Elisabeth           Manhattan        Harlem  40.80902  -73.94190   \n",
       "3  LisaRoxanne            Brooklyn  Clinton Hill  40.68514  -73.95976   \n",
       "4        Laura           Manhattan   East Harlem  40.79851  -73.94399   \n",
       "\n",
       "         room_type  price  minimum_nights  number_of_reviews last_review  \\\n",
       "0     Private room    149               1                  9  2018-10-19   \n",
       "1  Entire home/apt    225               1                 45  2019-05-21   \n",
       "2     Private room    150               3                  0         NaN   \n",
       "3  Entire home/apt     89               1                270  2019-07-05   \n",
       "4  Entire home/apt     80              10                  9  2018-11-19   \n",
       "\n",
       "   reviews_per_month  calculated_host_listings_count  availability_365  \n",
       "0               0.21                               6               365  \n",
       "1               0.38                               2               355  \n",
       "2                NaN                               1               365  \n",
       "3               4.64                               1               194  \n",
       "4               0.10                               1                 0  "
      ]
     },
     "execution_count": 2,
     "metadata": {},
     "output_type": "execute_result"
    }
   ],
   "source": [
    "# Loading the dataset.\n",
    "df = pd.read_csv('../data/AB_NYC_2019.csv')\n",
    "df.head()"
   ]
  },
  {
   "cell_type": "code",
   "execution_count": 3,
   "id": "43d0623e",
   "metadata": {},
   "outputs": [
    {
     "name": "stdout",
     "output_type": "stream",
     "text": [
      "Dataset Dimensions:  (48895, 16)\n"
     ]
    }
   ],
   "source": [
    "# Shape of the dataset.\n",
    "print(\"Dataset Dimensions: \", df.shape)"
   ]
  },
  {
   "cell_type": "code",
   "execution_count": 4,
   "id": "a02d0366",
   "metadata": {},
   "outputs": [
    {
     "name": "stdout",
     "output_type": "stream",
     "text": [
      "\n",
      "Column Names:\n",
      " ['id', 'name', 'host_id', 'host_name', 'neighbourhood_group', 'neighbourhood', 'latitude', 'longitude', 'room_type', 'price', 'minimum_nights', 'number_of_reviews', 'last_review', 'reviews_per_month', 'calculated_host_listings_count', 'availability_365']\n"
     ]
    }
   ],
   "source": [
    "# Column names.\n",
    "print(\"\\nColumn Names:\\n\", df.columns.tolist())"
   ]
  },
  {
   "cell_type": "code",
   "execution_count": 5,
   "id": "2ffd2edd",
   "metadata": {},
   "outputs": [
    {
     "name": "stdout",
     "output_type": "stream",
     "text": [
      "<class 'pandas.core.frame.DataFrame'>\n",
      "RangeIndex: 48895 entries, 0 to 48894\n",
      "Data columns (total 16 columns):\n",
      " #   Column                          Non-Null Count  Dtype  \n",
      "---  ------                          --------------  -----  \n",
      " 0   id                              48895 non-null  int64  \n",
      " 1   name                            48879 non-null  object \n",
      " 2   host_id                         48895 non-null  int64  \n",
      " 3   host_name                       48874 non-null  object \n",
      " 4   neighbourhood_group             48895 non-null  object \n",
      " 5   neighbourhood                   48895 non-null  object \n",
      " 6   latitude                        48895 non-null  float64\n",
      " 7   longitude                       48895 non-null  float64\n",
      " 8   room_type                       48895 non-null  object \n",
      " 9   price                           48895 non-null  int64  \n",
      " 10  minimum_nights                  48895 non-null  int64  \n",
      " 11  number_of_reviews               48895 non-null  int64  \n",
      " 12  last_review                     38843 non-null  object \n",
      " 13  reviews_per_month               38843 non-null  float64\n",
      " 14  calculated_host_listings_count  48895 non-null  int64  \n",
      " 15  availability_365                48895 non-null  int64  \n",
      "dtypes: float64(3), int64(7), object(6)\n",
      "memory usage: 6.0+ MB\n"
     ]
    }
   ],
   "source": [
    "# Info about datatypes, non-null counts, memory usage\n",
    "df.info()"
   ]
  },
  {
   "cell_type": "markdown",
   "id": "b582ea98",
   "metadata": {},
   "source": [
    "----------------"
   ]
  },
  {
   "cell_type": "markdown",
   "id": "2b4255a2",
   "metadata": {},
   "source": [
    "## Data Preprocessing"
   ]
  },
  {
   "cell_type": "markdown",
   "id": "ac1ee2cb",
   "metadata": {},
   "source": [
    "#### Missing Values:"
   ]
  },
  {
   "cell_type": "markdown",
   "id": "66c4dce7",
   "metadata": {},
   "source": [
    "Identifying missing values"
   ]
  },
  {
   "cell_type": "code",
   "execution_count": 6,
   "id": "3b516f89",
   "metadata": {},
   "outputs": [
    {
     "name": "stdout",
     "output_type": "stream",
     "text": [
      "\n",
      "Missing Values: \n",
      " id                                    0\n",
      "name                                 16\n",
      "host_id                               0\n",
      "host_name                            21\n",
      "neighbourhood_group                   0\n",
      "neighbourhood                         0\n",
      "latitude                              0\n",
      "longitude                             0\n",
      "room_type                             0\n",
      "price                                 0\n",
      "minimum_nights                        0\n",
      "number_of_reviews                     0\n",
      "last_review                       10052\n",
      "reviews_per_month                 10052\n",
      "calculated_host_listings_count        0\n",
      "availability_365                      0\n",
      "dtype: int64\n"
     ]
    }
   ],
   "source": [
    "# Missing values per column\n",
    "print(\"\\nMissing Values: \\n\", df.isnull().sum())"
   ]
  },
  {
   "cell_type": "markdown",
   "id": "4d6365b4",
   "metadata": {},
   "source": [
    "Here the missing are:  \n",
    "1. _name_ - This column describes the listing title. This is not critical for numerical or geographical analysis and only is for presentation. We can safely fill them with some generic value like \"Unknown Listing\""
   ]
  },
  {
   "cell_type": "code",
   "execution_count": 7,
   "id": "1336cc1b",
   "metadata": {},
   "outputs": [],
   "source": [
    "df['name'] = df['name'].fillna('Unknown Listing')"
   ]
  },
  {
   "cell_type": "markdown",
   "id": "436562d6",
   "metadata": {},
   "source": [
    "2. *host_name* - This is a text identifier, just like the _name_ and is not a factor in pricing or location trends. We can fill it with a generic value \"Unknown Host\" as well."
   ]
  },
  {
   "cell_type": "code",
   "execution_count": 8,
   "id": "05409c67",
   "metadata": {},
   "outputs": [],
   "source": [
    "df['host_name'] = df['host_name'].fillna('Unknown Host')"
   ]
  },
  {
   "cell_type": "markdown",
   "id": "466d1871",
   "metadata": {},
   "source": [
    "3. *last_review* - These missing values are likely the listings that were never reviewed, which is perfectly valid. We are going to convert these into **datetime** type so that we can analyze the trends. And we can replace it \"No Reviews\" to make the meaning explicit."
   ]
  },
  {
   "cell_type": "code",
   "execution_count": 9,
   "id": "f94d186e",
   "metadata": {},
   "outputs": [],
   "source": [
    "df['last_review'] = pd.to_datetime(df['last_review'])\n",
    "df['last_review'] = df['last_review'].fillna('No Review')"
   ]
  },
  {
   "cell_type": "markdown",
   "id": "1c5f35e5",
   "metadata": {},
   "source": [
    "4. *reviews_per_month* - This directly correlates with *last_review*. If there is no *last_value*, this value being _NaN_ makes sense. We will replace these values with \"0\" to indicate **\"no reviews\"**."
   ]
  },
  {
   "cell_type": "code",
   "execution_count": 10,
   "id": "2bd69836",
   "metadata": {},
   "outputs": [],
   "source": [
    "df['reviews_per_month'] = df['reviews_per_month'].fillna(0)"
   ]
  },
  {
   "cell_type": "markdown",
   "id": "30715559",
   "metadata": {},
   "source": [
    "--------------------------------------------------------------"
   ]
  },
  {
   "cell_type": "markdown",
   "id": "2484831f",
   "metadata": {},
   "source": [
    "#### Duplicate Values:  \n",
    "\n"
   ]
  },
  {
   "cell_type": "code",
   "execution_count": 11,
   "id": "124ece21",
   "metadata": {},
   "outputs": [
    {
     "name": "stdout",
     "output_type": "stream",
     "text": [
      "\n",
      "Number of Duplicate rows: \n",
      " 0\n"
     ]
    }
   ],
   "source": [
    "# Total Duplicate rows\n",
    "print(\"\\nNumber of Duplicate rows: \\n\", df.duplicated().sum())"
   ]
  },
  {
   "cell_type": "markdown",
   "id": "31c83d3e",
   "metadata": {},
   "source": [
    "As there we no duplicate values, we are not going to bother with them."
   ]
  },
  {
   "cell_type": "markdown",
   "id": "d94f4f60",
   "metadata": {},
   "source": [
    "-------------------"
   ]
  },
  {
   "cell_type": "markdown",
   "id": "eae34f91",
   "metadata": {},
   "source": [
    "#### Data Type Correction"
   ]
  },
  {
   "cell_type": "markdown",
   "id": "4ee91455",
   "metadata": {},
   "source": [
    "We are going to convert the Data types of some columns that are stored as _\"object\"_ datatype. This is to make sure that pandas(and other libraries) that these columns represent distinct groups and not just some _\"free-form text\"_.\n",
    "\n",
    "The columns are:\n",
    "- neighbourhood_group\n",
    "- room_type\n",
    "- neighbourhood\n",
    "\n",
    "We will convert these columns to **\"category\"** datatype as it is much smarter. The object type stores each string (e.g., \"Brooklyn\") as a separate Python object in memory.  \n",
    "If there are 20,000 \"Brooklyn\" entries, then 20,000 seperate strings are being stored in _\"object\"_ type.  \n",
    "The _\"category\"_ type will store a single list of the unique values (e.g., [\"Brooklyn\", \"Manhattan\", \"Queens\", ...]) and then uses simple integer codes to point to which value each row belongs to."
   ]
  },
  {
   "cell_type": "code",
   "execution_count": 12,
   "id": "a1b49b97",
   "metadata": {},
   "outputs": [],
   "source": [
    "# Converting neighbourhood_group to category\n",
    "df['neighbourhood_group'] = df['neighbourhood_group'].astype('category')\n",
    "\n",
    "# Converting room_type to category\n",
    "df['room_type'] = df['room_type'].astype('category')\n",
    "\n",
    "# Converting neighbourhood to category\n",
    "df['neighbourhood'] = df['neighbourhood'].astype('category')"
   ]
  },
  {
   "cell_type": "markdown",
   "id": "03f8abb1",
   "metadata": {},
   "source": [
    "-------------------------"
   ]
  },
  {
   "cell_type": "markdown",
   "id": "24f66044",
   "metadata": {},
   "source": [
    "#### Handling Categorical Data"
   ]
  },
  {
   "cell_type": "markdown",
   "id": "4649baa6",
   "metadata": {},
   "source": [
    "Handling categorical data involves two steps:\n",
    "1. Analysing the characteristics\n",
    "2. Transforming into numerical format for advanced analysis."
   ]
  },
  {
   "cell_type": "markdown",
   "id": "8540905b",
   "metadata": {},
   "source": [
    "*Categorical Column* are those which represents distinct groups or labels. You can't do meaningful math on them.  \n",
    "\n",
    "In the Dataset, the key categorial columns are:\n",
    "- *neighbourhood_group*\n",
    "- *room_type*\n",
    "- *neighbourhood*\n",
    "\n",
    "The columns *name* and *host_name* are text area are usually handled by Natural Language processing."
   ]
  },
  {
   "cell_type": "markdown",
   "id": "e762e39d",
   "metadata": {},
   "source": [
    "**Step 1** - Checking the Cardinality  \n",
    "_Cardinality_ is the number of unique values."
   ]
  },
  {
   "cell_type": "code",
   "execution_count": 13,
   "id": "486a6ade",
   "metadata": {},
   "outputs": [
    {
     "name": "stdout",
     "output_type": "stream",
     "text": [
      "neighbourhood_group      5\n",
      "room_type                3\n",
      "neighbourhood          221\n",
      "dtype: int64\n"
     ]
    }
   ],
   "source": [
    "categorical_cols = ['neighbourhood_group', 'room_type', 'neighbourhood']\n",
    "print(df[categorical_cols].nunique())"
   ]
  },
  {
   "cell_type": "markdown",
   "id": "9a0c7369",
   "metadata": {},
   "source": [
    "This clearly shows that *neighbourhood_group* and *room_type* have **low cardinality**, and *neighbourhood* has **high cardinality**"
   ]
  },
  {
   "cell_type": "markdown",
   "id": "cc71b9d3",
   "metadata": {},
   "source": [
    "Now, we would check for the unique values and distributions of each columns:"
   ]
  },
  {
   "cell_type": "code",
   "execution_count": 16,
   "id": "c646b60b",
   "metadata": {},
   "outputs": [
    {
     "name": "stdout",
     "output_type": "stream",
     "text": [
      "neighbourhood_group\n",
      "Manhattan        21661\n",
      "Brooklyn         20104\n",
      "Queens            5666\n",
      "Bronx             1091\n",
      "Staten Island      373\n",
      "Name: count, dtype: int64\n"
     ]
    }
   ],
   "source": [
    "# For neighbourhood_group column\n",
    "print(df['neighbourhood_group'].value_counts())"
   ]
  },
  {
   "cell_type": "code",
   "execution_count": 17,
   "id": "daf75c7e",
   "metadata": {},
   "outputs": [
    {
     "name": "stdout",
     "output_type": "stream",
     "text": [
      "room_type\n",
      "Entire home/apt    25409\n",
      "Private room       22326\n",
      "Shared room         1160\n",
      "Name: count, dtype: int64\n"
     ]
    }
   ],
   "source": [
    "# For room_type column\n",
    "print(df['room_type'].value_counts())"
   ]
  },
  {
   "cell_type": "code",
   "execution_count": 18,
   "id": "22d447ee",
   "metadata": {},
   "outputs": [
    {
     "name": "stdout",
     "output_type": "stream",
     "text": [
      "neighbourhood\n",
      "Williamsburg          3920\n",
      "Bedford-Stuyvesant    3714\n",
      "Harlem                2658\n",
      "Bushwick              2465\n",
      "Upper West Side       1971\n",
      "                      ... \n",
      "New Dorp                 1\n",
      "Richmondtown             1\n",
      "Rossville                1\n",
      "Willowbrook              1\n",
      "Woodrow                  1\n",
      "Name: count, Length: 221, dtype: int64\n"
     ]
    }
   ],
   "source": [
    "# For neighbourhood column\n",
    "print(df['neighbourhood'].value_counts())"
   ]
  },
  {
   "cell_type": "markdown",
   "id": "dccc6c0f",
   "metadata": {},
   "source": [
    "**Step 2 -** After checking the cardinality and unique values, we will examine the distributions across these categories. "
   ]
  },
  {
   "cell_type": "markdown",
   "id": "5beacf2c",
   "metadata": {},
   "source": [
    "First, we will define our libraries and a basic theme for our plots."
   ]
  },
  {
   "cell_type": "code",
   "execution_count": 19,
   "id": "ddc8426a",
   "metadata": {},
   "outputs": [],
   "source": [
    "import matplotlib.pyplot as plt\n",
    "import seaborn as sns\n",
    "\n",
    "# Setting up a consistent theme for plots:\n",
    "sns.set_theme(\n",
    "\n",
    "     style=\"whitegrid\", \n",
    "\n",
    "     palette=\"pastel\",  \n",
    "\n",
    "     rc={\n",
    "                 \n",
    "         \"figure.figsize\": (8, 6),\n",
    "                \n",
    "         # Adding a subtle border:\n",
    "         \"axes.edgecolor\": \"0.15\", \n",
    "         \"axes.linewidth\": 1.25,\n",
    "        \n",
    "         \"grid.color\": \"0.85\", \n",
    "         \"grid.linestyle\": \"--\",\n",
    "         \"grid.linewidth\": 0.5,\n",
    "        \n",
    "         # Improving font readablity: \n",
    "         \"font.family\": \"serif\", \n",
    "         \"font.size\": 12,\n",
    "         \"axes.labelsize\": 14,\n",
    "         \"xtick.labelsize\": 10,\n",
    "         \"ytick.labelsize\": 10,\n",
    "        \n",
    "         # Thickening lines for better visibilty:\n",
    "         \"lines.linewidth\": 2.5,\n",
    "    }\n",
    ")"
   ]
  },
  {
   "cell_type": "code",
   "execution_count": 20,
   "id": "2fd2dfe0",
   "metadata": {},
   "outputs": [
    {
     "data": {
      "text/plain": [
       "Text(0, 0.5, 'Number of Listings')"
      ]
     },
     "execution_count": 20,
     "metadata": {},
     "output_type": "execute_result"
    },
    {
     "data": {
      "image/png": "[encoded data removed]",
      "text/plain": [
       "<Figure size 800x600 with 1 Axes>"
      ]
     },
     "metadata": {},
     "output_type": "display_data"
    }
   ],
   "source": [
    "order_nbg = df['neighbourhood_group'].value_counts().index\n",
    "\n",
    "sns.countplot(data=df, x='neighbourhood_group', order=order_nbg)\n",
    "\n",
    "plt.title('Distribution of Listings by Neighbourhood Group', fontsize=16)\n",
    "plt.xlabel('Neighbourhood Group')\n",
    "plt.ylabel('Number of Listings')"
   ]
  },
  {
   "cell_type": "markdown",
   "id": "72286ac4",
   "metadata": {},
   "source": [
    "----------------------------"
   ]
  },
  {
   "cell_type": "markdown",
   "id": "f4ae3a30",
   "metadata": {},
   "source": [
    "#### Understanding Key columns:  \n",
    "| Column | Description |\n",
    "|---|---|\n",
    "| price | The nightly cost (in USD) of the Airbnb listing. Crucial for analyzing affordability and market segmentation. |\n",
    "| neighbourhood_group | The larger NYC borough the listing belongs to — one of _Manhattan_, _Brooklyn_, _Queens_0, _Bronx_, or _Staten Island_. Useful for comparing areas geographically. |\n",
    "| room_type | The category of the listing — e.g. _Entire home/apt, Private room, Shared room,_ or _Hotel room_. Influences both price and availability trends. |\n",
    "| availability_365 | The number of days in a year that the listing is available for booking. Indicates host engagement level and seasonal activity. |"
   ]
  },
  {
   "cell_type": "markdown",
   "id": "fe13af40",
   "metadata": {},
   "source": [
    "------------------------------------------------------------------"
   ]
  },
  {
   "cell_type": "markdown",
   "id": "e0141de5",
   "metadata": {},
   "source": [
    "## Univariate Analysis"
   ]
  },
  {
   "cell_type": "markdown",
   "id": "d2c329da",
   "metadata": {},
   "source": [
    "**Univariate analysis** helps us understand the distribution and characteristics of individual variables in the dataset. "
   ]
  },
  {
   "cell_type": "markdown",
   "id": "6037c1f1",
   "metadata": {},
   "source": [
    "##### 1. Price Distribution:"
   ]
  },
  {
   "cell_type": "code",
   "execution_count": 15,
   "id": "bdbfed90",
   "metadata": {},
   "outputs": [
    {
     "data": {
      "image/png": "[encoded data removed]",
      "text/plain": [
       "<Figure size 800x500 with 1 Axes>"
      ]
     },
     "metadata": {},
     "output_type": "display_data"
    },
    {
     "name": "stdout",
     "output_type": "stream",
     "text": [
      "Mean Price: 152.72\n",
      "Median Price: 106.0\n",
      "Max Price: 10000\n"
     ]
    }
   ],
   "source": [
    "plt.figure(figsize=(8,5))\n",
    "sns.histplot(df['price'], bins=100, kde=True)\n",
    "plt.title('Distribution of Airbnb Prices')\n",
    "plt.xlabel('Price (USD per night)')\n",
    "plt.ylabel('Count')\n",
    "plt.xlim(0, 1000)  # limit to filter extreme outliers\n",
    "plt.show()\n",
    "\n",
    "print(\"Mean Price:\", round(df['price'].mean(), 2))\n",
    "print(\"Median Price:\", round(df['price'].median(), 2))\n",
    "print(\"Max Price:\", df['price'].max())"
   ]
  }
 ],
 "metadata": {
  "kernelspec": {
   "display_name": "env3",
   "language": "python",
   "name": "python3"
  },
  "language_info": {
   "codemirror_mode": {
    "name": "ipython",
    "version": 3
   },
   "file_extension": ".py",
   "mimetype": "text/x-python",
   "name": "python",
   "nbconvert_exporter": "python",
   "pygments_lexer": "ipython3",
   "version": "3.11.7"
  }
 },
 "nbformat": 4,
 "nbformat_minor": 5
}
