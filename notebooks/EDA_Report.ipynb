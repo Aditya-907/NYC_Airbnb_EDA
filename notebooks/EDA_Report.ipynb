{
 "cells": [
  {
   "cell_type": "code",
   "execution_count": 10,
   "id": "f6c43bbd",
   "metadata": {},
   "outputs": [],
   "source": [
    "import sqlite3\n",
    "import pandas as pd\n",
    "import matplotlib.pyplot as plt\n",
    "import seaborn as sns"
   ]
  },
  {
   "cell_type": "code",
   "execution_count": 2,
   "id": "2fa0b4a6",
   "metadata": {},
   "outputs": [],
   "source": [
    "# creating database connection\n",
    "conn = sqlite3.connect(\"airbnb_nyc.db\")"
   ]
  },
  {
   "cell_type": "code",
   "execution_count": 6,
   "id": "43d0623e",
   "metadata": {},
   "outputs": [
    {
     "data": {
      "text/plain": [
       "48895"
      ]
     },
     "execution_count": 6,
     "metadata": {},
     "output_type": "execute_result"
    }
   ],
   "source": [
    "# Load CSV and write to SQLite table\n",
    "df_csv = pd.read_csv(\"../data/AB_NYC_2019.csv\")\n",
    "df_csv.to_sql(\"airbnb_data\", conn, if_exists=\"replace\", index=False)"
   ]
  },
  {
   "cell_type": "code",
   "execution_count": 7,
   "id": "a02d0366",
   "metadata": {},
   "outputs": [
    {
     "name": "stdout",
     "output_type": "stream",
     "text": [
      "Tables in DB:\n",
      "           name\n",
      "0  airbnb_data\n"
     ]
    }
   ],
   "source": [
    "# Check tables in the database\n",
    "tables = pd.read_sql_query(\"SELECT name FROM sqlite_master WHERE type='table'\", conn)\n",
    "print(\"Tables in DB:\\n\", tables)"
   ]
  },
  {
   "cell_type": "code",
   "execution_count": 8,
   "id": "2ffd2edd",
   "metadata": {},
   "outputs": [
    {
     "name": "stdout",
     "output_type": "stream",
     "text": [
      "-------------------------------------------------- Table: airbnb_data --------------------------------------------------\n",
      "Total records: 48895\n"
     ]
    },
    {
     "data": {
      "text/html": [
       "<div>\n",
       "<style scoped>\n",
       "    .dataframe tbody tr th:only-of-type {\n",
       "        vertical-align: middle;\n",
       "    }\n",
       "\n",
       "    .dataframe tbody tr th {\n",
       "        vertical-align: top;\n",
       "    }\n",
       "\n",
       "    .dataframe thead th {\n",
       "        text-align: right;\n",
       "    }\n",
       "</style>\n",
       "<table border=\"1\" class=\"dataframe\">\n",
       "  <thead>\n",
       "    <tr style=\"text-align: right;\">\n",
       "      <th></th>\n",
       "      <th>id</th>\n",
       "      <th>name</th>\n",
       "      <th>host_id</th>\n",
       "      <th>host_name</th>\n",
       "      <th>neighbourhood_group</th>\n",
       "      <th>neighbourhood</th>\n",
       "      <th>latitude</th>\n",
       "      <th>longitude</th>\n",
       "      <th>room_type</th>\n",
       "      <th>price</th>\n",
       "      <th>minimum_nights</th>\n",
       "      <th>number_of_reviews</th>\n",
       "      <th>last_review</th>\n",
       "      <th>reviews_per_month</th>\n",
       "      <th>calculated_host_listings_count</th>\n",
       "      <th>availability_365</th>\n",
       "    </tr>\n",
       "  </thead>\n",
       "  <tbody>\n",
       "    <tr>\n",
       "      <th>0</th>\n",
       "      <td>2539</td>\n",
       "      <td>Clean &amp; quiet apt home by the park</td>\n",
       "      <td>2787</td>\n",
       "      <td>John</td>\n",
       "      <td>Brooklyn</td>\n",
       "      <td>Kensington</td>\n",
       "      <td>40.64749</td>\n",
       "      <td>-73.97237</td>\n",
       "      <td>Private room</td>\n",
       "      <td>149</td>\n",
       "      <td>1</td>\n",
       "      <td>9</td>\n",
       "      <td>2018-10-19</td>\n",
       "      <td>0.21</td>\n",
       "      <td>6</td>\n",
       "      <td>365</td>\n",
       "    </tr>\n",
       "    <tr>\n",
       "      <th>1</th>\n",
       "      <td>2595</td>\n",
       "      <td>Skylit Midtown Castle</td>\n",
       "      <td>2845</td>\n",
       "      <td>Jennifer</td>\n",
       "      <td>Manhattan</td>\n",
       "      <td>Midtown</td>\n",
       "      <td>40.75362</td>\n",
       "      <td>-73.98377</td>\n",
       "      <td>Entire home/apt</td>\n",
       "      <td>225</td>\n",
       "      <td>1</td>\n",
       "      <td>45</td>\n",
       "      <td>2019-05-21</td>\n",
       "      <td>0.38</td>\n",
       "      <td>2</td>\n",
       "      <td>355</td>\n",
       "    </tr>\n",
       "    <tr>\n",
       "      <th>2</th>\n",
       "      <td>3647</td>\n",
       "      <td>THE VILLAGE OF HARLEM....NEW YORK !</td>\n",
       "      <td>4632</td>\n",
       "      <td>Elisabeth</td>\n",
       "      <td>Manhattan</td>\n",
       "      <td>Harlem</td>\n",
       "      <td>40.80902</td>\n",
       "      <td>-73.94190</td>\n",
       "      <td>Private room</td>\n",
       "      <td>150</td>\n",
       "      <td>3</td>\n",
       "      <td>0</td>\n",
       "      <td>None</td>\n",
       "      <td>NaN</td>\n",
       "      <td>1</td>\n",
       "      <td>365</td>\n",
       "    </tr>\n",
       "    <tr>\n",
       "      <th>3</th>\n",
       "      <td>3831</td>\n",
       "      <td>Cozy Entire Floor of Brownstone</td>\n",
       "      <td>4869</td>\n",
       "      <td>LisaRoxanne</td>\n",
       "      <td>Brooklyn</td>\n",
       "      <td>Clinton Hill</td>\n",
       "      <td>40.68514</td>\n",
       "      <td>-73.95976</td>\n",
       "      <td>Entire home/apt</td>\n",
       "      <td>89</td>\n",
       "      <td>1</td>\n",
       "      <td>270</td>\n",
       "      <td>2019-07-05</td>\n",
       "      <td>4.64</td>\n",
       "      <td>1</td>\n",
       "      <td>194</td>\n",
       "    </tr>\n",
       "    <tr>\n",
       "      <th>4</th>\n",
       "      <td>5022</td>\n",
       "      <td>Entire Apt: Spacious Studio/Loft by central park</td>\n",
       "      <td>7192</td>\n",
       "      <td>Laura</td>\n",
       "      <td>Manhattan</td>\n",
       "      <td>East Harlem</td>\n",
       "      <td>40.79851</td>\n",
       "      <td>-73.94399</td>\n",
       "      <td>Entire home/apt</td>\n",
       "      <td>80</td>\n",
       "      <td>10</td>\n",
       "      <td>9</td>\n",
       "      <td>2018-11-19</td>\n",
       "      <td>0.10</td>\n",
       "      <td>1</td>\n",
       "      <td>0</td>\n",
       "    </tr>\n",
       "  </tbody>\n",
       "</table>\n",
       "</div>"
      ],
      "text/plain": [
       "     id                                              name  host_id  \\\n",
       "0  2539                Clean & quiet apt home by the park     2787   \n",
       "1  2595                             Skylit Midtown Castle     2845   \n",
       "2  3647               THE VILLAGE OF HARLEM....NEW YORK !     4632   \n",
       "3  3831                   Cozy Entire Floor of Brownstone     4869   \n",
       "4  5022  Entire Apt: Spacious Studio/Loft by central park     7192   \n",
       "\n",
       "     host_name neighbourhood_group neighbourhood  latitude  longitude  \\\n",
       "0         John            Brooklyn    Kensington  40.64749  -73.97237   \n",
       "1     Jennifer           Manhattan       Midtown  40.75362  -73.98377   \n",
       "2    Elisabeth           Manhattan        Harlem  40.80902  -73.94190   \n",
       "3  LisaRoxanne            Brooklyn  Clinton Hill  40.68514  -73.95976   \n",
       "4        Laura           Manhattan   East Harlem  40.79851  -73.94399   \n",
       "\n",
       "         room_type  price  minimum_nights  number_of_reviews last_review  \\\n",
       "0     Private room    149               1                  9  2018-10-19   \n",
       "1  Entire home/apt    225               1                 45  2019-05-21   \n",
       "2     Private room    150               3                  0        None   \n",
       "3  Entire home/apt     89               1                270  2019-07-05   \n",
       "4  Entire home/apt     80              10                  9  2018-11-19   \n",
       "\n",
       "   reviews_per_month  calculated_host_listings_count  availability_365  \n",
       "0               0.21                               6               365  \n",
       "1               0.38                               2               355  \n",
       "2                NaN                               1               365  \n",
       "3               4.64                               1               194  \n",
       "4               0.10                               1                 0  "
      ]
     },
     "metadata": {},
     "output_type": "display_data"
    }
   ],
   "source": [
    "# Explore table structure\n",
    "for table in tables['name']:\n",
    "    print('-'*50, f'Table: {table}', '-'*50)\n",
    "    count = pd.read_sql_query(f\"SELECT COUNT(*) AS count FROM {table}\", conn).iloc[0,0]\n",
    "    print(f\"Total records: {count}\")\n",
    "    display(pd.read_sql_query(f\"SELECT * FROM {table} LIMIT 5\", conn))"
   ]
  },
  {
   "cell_type": "markdown",
   "id": "66c4dce7",
   "metadata": {},
   "source": [
    "Example queries:"
   ]
  },
  {
   "cell_type": "code",
   "execution_count": 9,
   "id": "3b516f89",
   "metadata": {},
   "outputs": [
    {
     "name": "stdout",
     "output_type": "stream",
     "text": [
      "  neighbourhood_group  total_listings\n",
      "0               Bronx            1091\n",
      "1            Brooklyn           20104\n",
      "2           Manhattan           21661\n",
      "3              Queens            5666\n",
      "4       Staten Island             373\n"
     ]
    }
   ],
   "source": [
    "# Listings per neighbourhood group\n",
    "neigh_counts = pd.read_sql_query(\n",
    "    \"SELECT neighbourhood_group, COUNT(*) AS total_listings FROM airbnb_data GROUP BY neighbourhood_group\", conn\n",
    ")\n",
    "print(neigh_counts)"
   ]
  },
  {
   "cell_type": "code",
   "execution_count": 11,
   "id": "4954db61",
   "metadata": {},
   "outputs": [
    {
     "data": {
      "image/png": "[encoded data removed]",
      "text/plain": [
       "<Figure size 640x480 with 1 Axes>"
      ]
     },
     "metadata": {},
     "output_type": "display_data"
    }
   ],
   "source": [
    "# Plot\n",
    "sns.barplot(data=neigh_counts, x='neighbourhood_group', y='total_listings')\n",
    "plt.title(\"Number of Listings per Neighbourhood Group\")\n",
    "plt.show()"
   ]
  },
  {
   "cell_type": "code",
   "execution_count": 12,
   "id": "df42bea7",
   "metadata": {},
   "outputs": [
    {
     "name": "stdout",
     "output_type": "stream",
     "text": [
      "  neighbourhood_group   avg_price\n",
      "0               Bronx   87.496792\n",
      "1            Brooklyn  124.383207\n",
      "2           Manhattan  196.875814\n",
      "3              Queens   99.517649\n",
      "4       Staten Island  114.812332\n"
     ]
    }
   ],
   "source": [
    "# Average price per neighbourhood group\n",
    "avg_price = pd.read_sql_query(\n",
    "    \"SELECT neighbourhood_group, AVG(price) AS avg_price FROM airbnb_data GROUP BY neighbourhood_group\", conn\n",
    ")\n",
    "print(avg_price)"
   ]
  },
  {
   "cell_type": "code",
   "execution_count": 13,
   "id": "2ceee30f",
   "metadata": {},
   "outputs": [
    {
     "data": {
      "image/png": "[encoded data removed]",
      "text/plain": [
       "<Figure size 640x480 with 1 Axes>"
      ]
     },
     "metadata": {},
     "output_type": "display_data"
    }
   ],
   "source": [
    "# Plot\n",
    "sns.barplot(data=avg_price, x='neighbourhood_group', y='avg_price')\n",
    "plt.title(\"Average Price per Neighbourhood Group\")\n",
    "plt.show()"
   ]
  },
  {
   "cell_type": "code",
   "execution_count": 14,
   "id": "05a3d24c",
   "metadata": {},
   "outputs": [
    {
     "name": "stdout",
     "output_type": "stream",
     "text": [
      "High-priced Manhattan listings:\n"
     ]
    },
    {
     "data": {
      "text/html": [
       "<div>\n",
       "<style scoped>\n",
       "    .dataframe tbody tr th:only-of-type {\n",
       "        vertical-align: middle;\n",
       "    }\n",
       "\n",
       "    .dataframe tbody tr th {\n",
       "        vertical-align: top;\n",
       "    }\n",
       "\n",
       "    .dataframe thead th {\n",
       "        text-align: right;\n",
       "    }\n",
       "</style>\n",
       "<table border=\"1\" class=\"dataframe\">\n",
       "  <thead>\n",
       "    <tr style=\"text-align: right;\">\n",
       "      <th></th>\n",
       "      <th>id</th>\n",
       "      <th>name</th>\n",
       "      <th>host_id</th>\n",
       "      <th>host_name</th>\n",
       "      <th>neighbourhood_group</th>\n",
       "      <th>neighbourhood</th>\n",
       "      <th>latitude</th>\n",
       "      <th>longitude</th>\n",
       "      <th>room_type</th>\n",
       "      <th>price</th>\n",
       "      <th>minimum_nights</th>\n",
       "      <th>number_of_reviews</th>\n",
       "      <th>last_review</th>\n",
       "      <th>reviews_per_month</th>\n",
       "      <th>calculated_host_listings_count</th>\n",
       "      <th>availability_365</th>\n",
       "    </tr>\n",
       "  </thead>\n",
       "  <tbody>\n",
       "    <tr>\n",
       "      <th>0</th>\n",
       "      <td>68974</td>\n",
       "      <td>Unique spacious loft on the Bowery</td>\n",
       "      <td>281229</td>\n",
       "      <td>Alicia</td>\n",
       "      <td>Manhattan</td>\n",
       "      <td>Little Italy</td>\n",
       "      <td>40.71943</td>\n",
       "      <td>-73.99627</td>\n",
       "      <td>Entire home/apt</td>\n",
       "      <td>575</td>\n",
       "      <td>2</td>\n",
       "      <td>191</td>\n",
       "      <td>2019-06-20</td>\n",
       "      <td>1.88</td>\n",
       "      <td>1</td>\n",
       "      <td>298</td>\n",
       "    </tr>\n",
       "    <tr>\n",
       "      <th>1</th>\n",
       "      <td>174966</td>\n",
       "      <td>Luxury 2Bed/2.5Bath Central Park View</td>\n",
       "      <td>836168</td>\n",
       "      <td>Henry</td>\n",
       "      <td>Manhattan</td>\n",
       "      <td>Upper West Side</td>\n",
       "      <td>40.77350</td>\n",
       "      <td>-73.98697</td>\n",
       "      <td>Entire home/apt</td>\n",
       "      <td>2000</td>\n",
       "      <td>30</td>\n",
       "      <td>30</td>\n",
       "      <td>2018-05-05</td>\n",
       "      <td>0.33</td>\n",
       "      <td>11</td>\n",
       "      <td>0</td>\n",
       "    </tr>\n",
       "    <tr>\n",
       "      <th>2</th>\n",
       "      <td>248871</td>\n",
       "      <td>4 BEDROOM -2BATHRM WEST VILLAGE DUPLEX  TOWNHOUSE</td>\n",
       "      <td>605463</td>\n",
       "      <td>West Village</td>\n",
       "      <td>Manhattan</td>\n",
       "      <td>West Village</td>\n",
       "      <td>40.73066</td>\n",
       "      <td>-74.00287</td>\n",
       "      <td>Entire home/apt</td>\n",
       "      <td>700</td>\n",
       "      <td>3</td>\n",
       "      <td>131</td>\n",
       "      <td>2019-06-24</td>\n",
       "      <td>1.40</td>\n",
       "      <td>4</td>\n",
       "      <td>296</td>\n",
       "    </tr>\n",
       "    <tr>\n",
       "      <th>3</th>\n",
       "      <td>250801</td>\n",
       "      <td>Heart &amp; Soul of Greenwich Village</td>\n",
       "      <td>1314834</td>\n",
       "      <td>Rhona</td>\n",
       "      <td>Manhattan</td>\n",
       "      <td>Greenwich Village</td>\n",
       "      <td>40.73129</td>\n",
       "      <td>-73.99944</td>\n",
       "      <td>Entire home/apt</td>\n",
       "      <td>850</td>\n",
       "      <td>3</td>\n",
       "      <td>107</td>\n",
       "      <td>2019-05-23</td>\n",
       "      <td>1.15</td>\n",
       "      <td>1</td>\n",
       "      <td>249</td>\n",
       "    </tr>\n",
       "    <tr>\n",
       "      <th>4</th>\n",
       "      <td>256328</td>\n",
       "      <td>Luxury Chelsea Townhouse at the High Line</td>\n",
       "      <td>1347034</td>\n",
       "      <td>Janine</td>\n",
       "      <td>Manhattan</td>\n",
       "      <td>Chelsea</td>\n",
       "      <td>40.74599</td>\n",
       "      <td>-74.00253</td>\n",
       "      <td>Entire home/apt</td>\n",
       "      <td>760</td>\n",
       "      <td>2</td>\n",
       "      <td>7</td>\n",
       "      <td>2019-06-22</td>\n",
       "      <td>0.08</td>\n",
       "      <td>1</td>\n",
       "      <td>361</td>\n",
       "    </tr>\n",
       "  </tbody>\n",
       "</table>\n",
       "</div>"
      ],
      "text/plain": [
       "       id                                               name  host_id  \\\n",
       "0   68974                 Unique spacious loft on the Bowery   281229   \n",
       "1  174966              Luxury 2Bed/2.5Bath Central Park View   836168   \n",
       "2  248871  4 BEDROOM -2BATHRM WEST VILLAGE DUPLEX  TOWNHOUSE   605463   \n",
       "3  250801                 Heart & Soul of Greenwich Village   1314834   \n",
       "4  256328          Luxury Chelsea Townhouse at the High Line  1347034   \n",
       "\n",
       "      host_name neighbourhood_group      neighbourhood  latitude  longitude  \\\n",
       "0        Alicia           Manhattan       Little Italy  40.71943  -73.99627   \n",
       "1         Henry           Manhattan    Upper West Side  40.77350  -73.98697   \n",
       "2  West Village           Manhattan       West Village  40.73066  -74.00287   \n",
       "3         Rhona           Manhattan  Greenwich Village  40.73129  -73.99944   \n",
       "4        Janine           Manhattan            Chelsea  40.74599  -74.00253   \n",
       "\n",
       "         room_type  price  minimum_nights  number_of_reviews last_review  \\\n",
       "0  Entire home/apt    575               2                191  2019-06-20   \n",
       "1  Entire home/apt   2000              30                 30  2018-05-05   \n",
       "2  Entire home/apt    700               3                131  2019-06-24   \n",
       "3  Entire home/apt    850               3                107  2019-05-23   \n",
       "4  Entire home/apt    760               2                  7  2019-06-22   \n",
       "\n",
       "   reviews_per_month  calculated_host_listings_count  availability_365  \n",
       "0               1.88                               1               298  \n",
       "1               0.33                              11                 0  \n",
       "2               1.40                               4               296  \n",
       "3               1.15                               1               249  \n",
       "4               0.08                               1               361  "
      ]
     },
     "metadata": {},
     "output_type": "display_data"
    }
   ],
   "source": [
    "# Filter: high-priced Manhattan listings (> $500)\n",
    "high_price_manhattan = pd.read_sql_query(\n",
    "    \"SELECT * FROM airbnb_data WHERE neighbourhood_group='Manhattan' AND price > 500\", conn\n",
    ")\n",
    "print(\"High-priced Manhattan listings:\")\n",
    "display(high_price_manhattan.head())"
   ]
  },
  {
   "cell_type": "code",
   "execution_count": 15,
   "id": "2041b002",
   "metadata": {},
   "outputs": [],
   "source": [
    "# Closing the connection\n",
    "conn.close()"
   ]
  }
 ],
 "metadata": {
  "kernelspec": {
   "display_name": "env3",
   "language": "python",
   "name": "python3"
  },
  "language_info": {
   "codemirror_mode": {
    "name": "ipython",
    "version": 3
   },
   "file_extension": ".py",
   "mimetype": "text/x-python",
   "name": "python",
   "nbconvert_exporter": "python",
   "pygments_lexer": "ipython3",
   "version": "3.11.7"
  }
 },
 "nbformat": 4,
 "nbformat_minor": 5
}
